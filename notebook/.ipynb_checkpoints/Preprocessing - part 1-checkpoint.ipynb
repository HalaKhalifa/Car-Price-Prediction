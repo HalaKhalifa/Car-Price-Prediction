{
 "cells": [
  {
   "cell_type": "markdown",
   "id": "d8f585d6",
   "metadata": {},
   "source": [
    "# Car Listings Preprocessing"
   ]
  },
  {
   "cell_type": "markdown",
   "id": "9bd37842",
   "metadata": {},
   "source": [
    "## Goal:\n",
    "##### 🔻 Process HTML files with car listings for analysis.\n",
    "\n",
    "## Steps:\n",
    "    ▼ Extract features using BeautifulSoup.\n",
    "    ▼ Translate column names from Arabic to English.\n",
    "    ▼ Create a structured DataFrame and save it as csv"
   ]
  },
  {
   "cell_type": "code",
   "execution_count": 1,
   "id": "ec8bcd24",
   "metadata": {},
   "outputs": [],
   "source": [
    "import os\n",
    "import pandas as pd\n",
    "from bs4 import BeautifulSoup"
   ]
  },
  {
   "cell_type": "markdown",
   "id": "2b2aa306",
   "metadata": {},
   "source": [
    "Convert HTML 'txt files' into a data objects:"
   ]
  },
  {
   "cell_type": "code",
   "execution_count": 2,
   "id": "222e4ce6",
   "metadata": {},
   "outputs": [],
   "source": [
    "def html_parser(file_path):\n",
    "    with open(file_path, encoding='utf-8') as file:\n",
    "        text = file.read()\n",
    "    return BeautifulSoup(text, 'html.parser')"
   ]
  },
  {
   "cell_type": "markdown",
   "id": "911d59ea",
   "metadata": {},
   "source": [
    "#### Function for extract the YEAR feature "
   ]
  },
  {
   "cell_type": "code",
   "execution_count": 3,
   "id": "f674188c",
   "metadata": {},
   "outputs": [],
   "source": [
    "def extract_year(car_model):\n",
    "    # extract the year as a numeric value from the car_model that contain the full text\n",
    "    if car_model :\n",
    "        year = int(''.join(filter(str.isdigit, car_model)))\n",
    "        if year :\n",
    "            return year\n",
    "    return None"
   ]
  },
  {
   "cell_type": "markdown",
   "id": "6aa2f656",
   "metadata": {},
   "source": [
    "#### Function for extract the PRICE feature "
   ]
  },
  {
   "cell_type": "code",
   "execution_count": 4,
   "id": "5bc7fbc6",
   "metadata": {},
   "outputs": [],
   "source": [
    "def extract_price(price_tag):\n",
    "    # Extract the numeric part of the price\n",
    "    if price_tag:\n",
    "        price_text = price_tag.text.strip()\n",
    "        price = ''.join(filter(str.isdigit, price_text))\n",
    "        if price:\n",
    "            return int(price)\n",
    "\n",
    "    return None"
   ]
  },
  {
   "cell_type": "markdown",
   "id": "0b7a87c5",
   "metadata": {},
   "source": [
    "#### Function for extract the basic information about the car < MAKE , YEAR, PRICE > "
   ]
  },
  {
   "cell_type": "code",
   "execution_count": 5,
   "id": "18f633b9",
   "metadata": {},
   "outputs": [],
   "source": [
    "def extract_basic_details(soup):\n",
    "    car_details = soup.select('table.driving-table td')\n",
    "    if not car_details:\n",
    "        return None, None, None\n",
    "    \n",
    "\n",
    "    car_make = car_details[0].find('h3').text.strip()\n",
    "    car_model = car_details[0].find('h5').text.strip()\n",
    "\n",
    "    # Extracting the year\n",
    "    year = extract_year(car_model)\n",
    "    if year is None:\n",
    "        return None\n",
    "\n",
    "    # Extract the price\n",
    "    price_tag = soup.find('h5', class_='post-price')\n",
    "    price = extract_price(price_tag)\n",
    "\n",
    "    return car_make, year, price"
   ]
  },
  {
   "cell_type": "markdown",
   "id": "b5999788",
   "metadata": {},
   "source": [
    "#### Function for extract additional information and details about the car"
   ]
  },
  {
   "cell_type": "code",
   "execution_count": 6,
   "id": "760871fe",
   "metadata": {},
   "outputs": [],
   "source": [
    "def extract_other_features(soup):\n",
    "    # Extract other features\n",
    "    features = {}\n",
    "    for row in soup.select('table.list_ads tr.list-row'):\n",
    "        key = row.find_all('td')[0].text.strip()\n",
    "        value = row.find_all('td')[1].text.strip()\n",
    "        features[key] = value\n",
    "\n",
    "    # Extract additions\n",
    "    additions_list = ['مُكيّف','إغلاق مركزي','جهاز إنذار','مسجل CD','فتحة سقف','جنطات مغنيسيوم','فرش جلد','وسادة حماية هوائية']\n",
    "    additions = [li.text.strip() for li in soup.select('table.list_ads tr.list-row td.list-additions ul li')]\n",
    "    \n",
    "    # Create a dictionary for each feature with 0 as default value\n",
    "    feature_dict = {feature: 0 for feature in additions_list}\n",
    "\n",
    "    # Update the values based on the additions list\n",
    "    for feature in additions:\n",
    "        if feature in feature_dict:\n",
    "            feature_dict[feature] = 1\n",
    "\n",
    "    return features, feature_dict\n"
   ]
  },
  {
   "cell_type": "markdown",
   "id": "7931152d",
   "metadata": {},
   "source": [
    "#### Collecting all the features together"
   ]
  },
  {
   "cell_type": "code",
   "execution_count": 7,
   "id": "9134e868",
   "metadata": {},
   "outputs": [],
   "source": [
    "def extract_features(soup):\n",
    "    # Extract car details\n",
    "    car_make, year, price = extract_basic_details(soup)\n",
    "    if car_make is None:\n",
    "        return None\n",
    "\n",
    "    # Extract other features\n",
    "    features, additions = extract_other_features(soup)\n",
    "\n",
    "    # Create a dictionary with all features\n",
    "    data = {\n",
    "        'Make': car_make,\n",
    "        'Year': year,\n",
    "        'Price': price,\n",
    "    }\n",
    "    data.update(features)\n",
    "    data.update(additions)\n",
    "    return data"
   ]
  },
  {
   "cell_type": "markdown",
   "id": "733b3f21",
   "metadata": {},
   "source": [
    "#### Function to  build car dataframe from folder"
   ]
  },
  {
   "cell_type": "code",
   "execution_count": 8,
   "id": "1b37b2e2",
   "metadata": {},
   "outputs": [],
   "source": [
    "def car_df_build(folder_path):\n",
    "    # Create an empty list to store extracted features\n",
    "    data_list = []\n",
    "\n",
    "    # Loop through each file in the folder\n",
    "    for filename in os.listdir(folder_path):\n",
    "        if filename.endswith(\".txt\"):\n",
    "            file_path = os.path.join(folder_path, filename)\n",
    "            soup = html_parser(file_path)\n",
    "            # Extract features and append to the list\n",
    "            extracted_data = extract_features(soup)\n",
    "            if extracted_data is not None:\n",
    "                data_list.append(extracted_data)\n",
    "\n",
    "    # Create a DataFrame from the list of extracted features\n",
    "    df = pd.DataFrame(data_list)\n",
    "\n",
    "    return df"
   ]
  },
  {
   "cell_type": "markdown",
   "id": "e482d534",
   "metadata": {},
   "source": [
    "### RUN THE CODE ON OUR DATA"
   ]
  },
  {
   "cell_type": "code",
   "execution_count": null,
   "id": "5eb8d4dc",
   "metadata": {
    "scrolled": true
   },
   "outputs": [],
   "source": [
    "pd.set_option(\"display.max_columns\", None)\n",
    "folder_path = '../data/'\n",
    "result_df = car_df_build(folder_path)"
   ]
  },
  {
   "cell_type": "markdown",
   "id": "03e1b941",
   "metadata": {},
   "source": [
    "##### Translate the columns "
   ]
  },
  {
   "cell_type": "code",
   "execution_count": null,
   "id": "852d3730",
   "metadata": {},
   "outputs": [],
   "source": [
    "translation_dict = {\n",
    "    'لون السيارة': 'Color',\n",
    "    'نوع الوقود': 'Fuel Type',\n",
    "    'أصل السيارة': 'Car Origin',\n",
    "    'رخصة السيارة': 'Car License',\n",
    "    'نوع الجير': 'Transmission Type',\n",
    "    'الزجاج': 'Glass',\n",
    "    'قوة الماتور': 'Engine Power',\n",
    "    'عداد السيارة': 'Mileage',\n",
    "    'وسيلة الدفع': 'Payment Method',\n",
    "    'معروضة': 'Available',\n",
    "    'أصحاب سابقون': 'Previous Owners',\n",
    "    'إضافات': 'Additions',\n",
    "    'مُكيّف': 'Air Conditioner',\n",
    "    'إغلاق مركزي': 'Central Locking',\n",
    "    'جهاز إنذار': 'Alarm System',\n",
    "    'مسجل CD': 'CD Player',\n",
    "    'فتحة سقف': 'Sunroof',\n",
    "    'جنطات مغنيسيوم': 'Alloy Wheels',\n",
    "    'فرش جلد': 'Leather Seats',\n",
    "    'وسادة حماية هوائية': 'Airbag',\n",
    "    'عدد الركاب': 'Passenger Count',\n",
    "    'الدفع': 'Drive Type'\n",
    "}\n",
    "\n",
    "# Use the translation dictionary to rename columns\n",
    "result_df.rename(columns=translation_dict, inplace=True)"
   ]
  },
  {
   "cell_type": "markdown",
   "id": "bfde4055",
   "metadata": {},
   "source": [
    "##### Save the df as csv file "
   ]
  },
  {
   "cell_type": "code",
   "execution_count": null,
   "id": "ee61b3c4",
   "metadata": {},
   "outputs": [],
   "source": [
    "result_df.to_csv('../csv_files/draft_df.csv', index=False)"
   ]
  },
  {
   "cell_type": "markdown",
   "id": "0421e222",
   "metadata": {},
   "source": [
    "##### Test"
   ]
  },
  {
   "cell_type": "code",
   "execution_count": null,
   "id": "57a3dfd3",
   "metadata": {},
   "outputs": [],
   "source": [
    "df_car = pd.read_csv('../csv_files/draft_df.csv')\n",
    "df_car"
   ]
  }
 ],
 "metadata": {
  "kernelspec": {
   "display_name": "Python 3 (ipykernel)",
   "language": "python",
   "name": "python3"
  },
  "language_info": {
   "codemirror_mode": {
    "name": "ipython",
    "version": 3
   },
   "file_extension": ".py",
   "mimetype": "text/x-python",
   "name": "python",
   "nbconvert_exporter": "python",
   "pygments_lexer": "ipython3",
   "version": "3.9.12"
  }
 },
 "nbformat": 4,
 "nbformat_minor": 5
}
